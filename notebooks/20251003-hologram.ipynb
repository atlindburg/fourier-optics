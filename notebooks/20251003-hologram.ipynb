{
 "cells": [
  {
   "cell_type": "markdown",
   "id": "4c208b96",
   "metadata": {},
   "source": [
    "# 1D Hologram"
   ]
  },
  {
   "cell_type": "code",
   "execution_count": 1,
   "id": "eaed87e8",
   "metadata": {},
   "outputs": [],
   "source": [
    "import sys\n",
    "import os\n",
    "\n",
    "# Get absolute path to the real src folder (repo root + src)\n",
    "repo_root = os.path.abspath(os.path.join(os.getcwd(), \"..\"))\n",
    "sys.path.insert(0, os.path.join(repo_root, \"src\"))\n",
    "import fourieroptics as fo\n",
    "\n",
    "import matplotlib.pyplot as plt\n",
    "import numpy as np"
   ]
  },
  {
   "cell_type": "markdown",
   "id": "5393225c",
   "metadata": {},
   "source": [
    "## Test Hologram"
   ]
  },
  {
   "cell_type": "code",
   "execution_count": 4,
   "id": "81de4744",
   "metadata": {},
   "outputs": [
    {
     "ename": "TypeError",
     "evalue": "'float' object is not subscriptable",
     "output_type": "error",
     "traceback": [
      "\u001b[0;31m---------------------------------------------------------------------------\u001b[0m",
      "\u001b[0;31mTypeError\u001b[0m                                 Traceback (most recent call last)",
      "Cell \u001b[0;32mIn[4], line 14\u001b[0m\n\u001b[1;32m     11\u001b[0m \u001b[38;5;66;03m# Generate holographic mask\u001b[39;00m\n\u001b[1;32m     12\u001b[0m holo \u001b[38;5;241m=\u001b[39m fo\u001b[38;5;241m.\u001b[39mholographic_mask(E_source, E_target, dx\u001b[38;5;241m=\u001b[39m\u001b[38;5;241m10e-6\u001b[39m, wavelength\u001b[38;5;241m=\u001b[39m\u001b[38;5;241m633e-9\u001b[39m, z\u001b[38;5;241m=\u001b[39m\u001b[38;5;241m0.1\u001b[39m, phase_only\u001b[38;5;241m=\u001b[39m\u001b[38;5;28;01mTrue\u001b[39;00m)\n\u001b[0;32m---> 14\u001b[0m fo\u001b[38;5;241m.\u001b[39mz_step_1D(E_source, dx, fo\u001b[38;5;241m.\u001b[39mfresnel_tf_1D, wavelength\u001b[38;5;241m=\u001b[39m\u001b[38;5;241m633e-9\u001b[39m, z_range\u001b[38;5;241m=\u001b[39m\u001b[38;5;241m0.1\u001b[39m, n_points\u001b[38;5;241m=\u001b[39m\u001b[38;5;241m300\u001b[39m)\n",
      "File \u001b[0;32m~/python/fourier-optics/src/fourieroptics/propagation.py:114\u001b[0m, in \u001b[0;36mz_step_1D\u001b[0;34m(E0, x, propagator, wavelength, z_range, n_points)\u001b[0m\n\u001b[1;32m     88\u001b[0m \u001b[38;5;28;01mdef\u001b[39;00m \u001b[38;5;21mz_step_1D\u001b[39m(E0, x, propagator, wavelength, z_range, n_points\u001b[38;5;241m=\u001b[39m\u001b[38;5;241m500\u001b[39m):\n\u001b[1;32m     89\u001b[0m \u001b[38;5;250m    \u001b[39m\u001b[38;5;124;03m\"\"\"\u001b[39;00m\n\u001b[1;32m     90\u001b[0m \u001b[38;5;124;03m    Compute intensity along z for a 1D field using a given propagator.\u001b[39;00m\n\u001b[1;32m     91\u001b[0m \n\u001b[0;32m   (...)\u001b[0m\n\u001b[1;32m    112\u001b[0m \u001b[38;5;124;03m        Array of z positions corresponding to intensity_map columns.\u001b[39;00m\n\u001b[1;32m    113\u001b[0m \u001b[38;5;124;03m    \"\"\"\u001b[39;00m\n\u001b[0;32m--> 114\u001b[0m     dx \u001b[38;5;241m=\u001b[39m x[\u001b[38;5;241m1\u001b[39m] \u001b[38;5;241m-\u001b[39m x[\u001b[38;5;241m0\u001b[39m]  \u001b[38;5;66;03m# spacing from the input grid\u001b[39;00m\n\u001b[1;32m    115\u001b[0m     z_steps \u001b[38;5;241m=\u001b[39m np\u001b[38;5;241m.\u001b[39mlinspace(\u001b[38;5;241m0\u001b[39m, z_range, n_points)\n\u001b[1;32m    116\u001b[0m     intensity_map \u001b[38;5;241m=\u001b[39m np\u001b[38;5;241m.\u001b[39mzeros((E0\u001b[38;5;241m.\u001b[39msize, n_points))\n",
      "\u001b[0;31mTypeError\u001b[0m: 'float' object is not subscriptable"
     ]
    }
   ],
   "source": [
    "# 1D coordinate grid\n",
    "dx = 10e-6\n",
    "x = fo.coords_1D(1000, dx)\n",
    "\n",
    "# Target field: rectangular slit\n",
    "E_target = fo.rectangular_grating_1D(x, period=200e-6, duty_cycle=0.5)\n",
    "\n",
    "# Source field (plane wave)\n",
    "E_source = np.ones_like(x, dtype=complex)\n",
    "\n",
    "# Generate holographic mask\n",
    "holo = fo.holographic_mask(E_source, E_target, dx=10e-6, wavelength=633e-9, z=0.1, phase_only=True)\n",
    "\n",
    "fo.z_step_1D(E_source, dx, fo.fresnel_tf_1D, wavelength=633e-9, z_range=0.1, n_points=300)\n",
    "\n"
   ]
  },
  {
   "cell_type": "code",
   "execution_count": null,
   "id": "aa882ada",
   "metadata": {},
   "outputs": [],
   "source": []
  }
 ],
 "metadata": {
  "kernelspec": {
   "display_name": "base",
   "language": "python",
   "name": "python3"
  },
  "language_info": {
   "codemirror_mode": {
    "name": "ipython",
    "version": 3
   },
   "file_extension": ".py",
   "mimetype": "text/x-python",
   "name": "python",
   "nbconvert_exporter": "python",
   "pygments_lexer": "ipython3",
   "version": "3.12.4"
  }
 },
 "nbformat": 4,
 "nbformat_minor": 5
}
