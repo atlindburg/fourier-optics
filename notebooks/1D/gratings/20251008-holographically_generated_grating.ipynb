{
 "cells": [
  {
   "cell_type": "markdown",
   "id": "4a2484c6",
   "metadata": {},
   "source": [
    "# VLS Gratings"
   ]
  },
  {
   "cell_type": "code",
   "execution_count": 1,
   "id": "2f8ccf10",
   "metadata": {},
   "outputs": [],
   "source": [
    "import sys\n",
    "import os\n",
    "\n",
    "# Get absolute path to the real src folder (repo root + src)\n",
    "repo_root = os.path.abspath(os.path.join(os.getcwd(), \"..\"))\n",
    "sys.path.insert(0, os.path.join(repo_root, \"src\"))\n",
    "\n",
    "import fourieroptics as fo"
   ]
  },
  {
   "cell_type": "markdown",
   "id": "4914f453",
   "metadata": {},
   "source": [
    "## Generate Grating"
   ]
  }
 ],
 "metadata": {
  "kernelspec": {
   "display_name": "base",
   "language": "python",
   "name": "python3"
  },
  "language_info": {
   "codemirror_mode": {
    "name": "ipython",
    "version": 3
   },
   "file_extension": ".py",
   "mimetype": "text/x-python",
   "name": "python",
   "nbconvert_exporter": "python",
   "pygments_lexer": "ipython3",
   "version": "3.12.4"
  }
 },
 "nbformat": 4,
 "nbformat_minor": 5
}
